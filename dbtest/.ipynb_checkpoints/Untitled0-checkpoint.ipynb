{
 "metadata": {
  "name": "",
  "signature": "sha256:bdcdd1d2362b450ebd4e2408b9a979c85b6d941b208d21e46db486ead80442a3"
 },
 "nbformat": 3,
 "nbformat_minor": 0,
 "worksheets": []
}