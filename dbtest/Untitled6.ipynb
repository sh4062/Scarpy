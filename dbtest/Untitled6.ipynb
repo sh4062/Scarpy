{
 "metadata": {
  "name": "",
  "signature": "sha256:f8386551a012f38ec18102a7e34d8322dc9b77d569096486dac6ab50c4ee161e"
 },
 "nbformat": 3,
 "nbformat_minor": 0,
 "worksheets": [
  {
   "cells": [
    {
     "cell_type": "code",
     "collapsed": false,
     "input": [
      "import requests\n",
      "from bs4 import BeautifulSoup"
     ],
     "language": "python",
     "metadata": {},
     "outputs": [],
     "prompt_number": 1
    },
    {
     "cell_type": "code",
     "collapsed": false,
     "input": [
      "# -*- coding: UTF-8 -*-\n",
      "\"\"\"\n",
      " \u83b7\u53d6\u8c46\u74e3\u7535\u5f71\u8bc4\u5206\u6392\u884c\u699c\n",
      "\"\"\"\n",
      "import requests\n",
      "from bs4 import BeautifulSoup\n",
      "\n",
      "\n",
      "# \u83b7\u5f97\u6307\u5b9a\u5f00\u59cb\u6392\u884c\u7684\u7535\u5f71url\n",
      "def get_url(root_url,start):\n",
      "    return root_url+\"?start=\"+str(start)+\"&filter=\"\n",
      "\n",
      "def get_review(page_url):\n",
      "    movies_list=[]\n",
      "    response=requests.get(page_url)\n",
      "    soup=BeautifulSoup(response.text,\"lxml\")\n",
      "    soup=soup.find('ol','grid_view')\n",
      "    for tag_li in soup.find_all('li'):\n",
      "        dict={}\n",
      "        dict['rank']=tag_li.find('em').string\n",
      "        dict['name']=tag_li.find_all('span','title')[0].string\n",
      "        dict['score']=tag_li.find('span','rating_num').string\n",
      "        if(tag_li.find('span','inq')):\n",
      "            dict['desc']=tag_li.find('span','inq').string\n",
      "        movies_list.append(dict)\n",
      "    return movies_list\n",
      "\n",
      "if __name__ == \"__main__\":\n",
      "    root_url=\"https://movie.douban.com/top250\"\n",
      "    start=0\n",
      "    while(start<250):\n",
      "        movies_list=get_review(get_url(root_url,start))\n",
      "        for movie_dict in movies_list:\n",
      "            print('\u7535\u5f71\u6392\u540d\uff1a'+movie_dict['rank'])\n",
      "            print('\u7535\u5f71\u540d\u79f0\uff1a'+movie_dict.get('name'))\n",
      "            print('\u7535\u5f71\u8bc4\u5206\uff1a'+movie_dict.get('score'))\n",
      "            print('\u7535\u5f71\u8bc4\u8bcd\uff1a'+movie_dict.get('desc','\u65e0\u8bc4\u8bcd'))\n",
      "            print('------------------------------------------------------')\n",
      "        start+=25\n",
      "\n"
     ],
     "language": "python",
     "metadata": {},
     "outputs": [
      {
       "ename": "UnicodeDecodeError",
       "evalue": "'ascii' codec can't decode byte 0xe7 in position 0: ordinal not in range(128)",
       "output_type": "pyerr",
       "traceback": [
        "\u001b[0;31m---------------------------------------------------------------------------\u001b[0m\n\u001b[0;31mUnicodeDecodeError\u001b[0m                        Traceback (most recent call last)",
        "\u001b[0;32m<ipython-input-2-1ae55cec8fc5>\u001b[0m in \u001b[0;36m<module>\u001b[0;34m()\u001b[0m\n\u001b[1;32m     32\u001b[0m         \u001b[0mmovies_list\u001b[0m\u001b[0;34m=\u001b[0m\u001b[0mget_review\u001b[0m\u001b[0;34m(\u001b[0m\u001b[0mget_url\u001b[0m\u001b[0;34m(\u001b[0m\u001b[0mroot_url\u001b[0m\u001b[0;34m,\u001b[0m\u001b[0mstart\u001b[0m\u001b[0;34m)\u001b[0m\u001b[0;34m)\u001b[0m\u001b[0;34m\u001b[0m\u001b[0m\n\u001b[1;32m     33\u001b[0m         \u001b[0;32mfor\u001b[0m \u001b[0mmovie_dict\u001b[0m \u001b[0;32min\u001b[0m \u001b[0mmovies_list\u001b[0m\u001b[0;34m:\u001b[0m\u001b[0;34m\u001b[0m\u001b[0m\n\u001b[0;32m---> 34\u001b[0;31m             \u001b[0;32mprint\u001b[0m\u001b[0;34m(\u001b[0m\u001b[0;34m'\u7535\u5f71\u6392\u540d\uff1a'\u001b[0m\u001b[0;34m+\u001b[0m\u001b[0mmovie_dict\u001b[0m\u001b[0;34m[\u001b[0m\u001b[0;34m'rank'\u001b[0m\u001b[0;34m]\u001b[0m\u001b[0;34m)\u001b[0m\u001b[0;34m\u001b[0m\u001b[0m\n\u001b[0m\u001b[1;32m     35\u001b[0m             \u001b[0;32mprint\u001b[0m\u001b[0;34m(\u001b[0m\u001b[0;34m'\u7535\u5f71\u540d\u79f0\uff1a'\u001b[0m\u001b[0;34m+\u001b[0m\u001b[0mmovie_dict\u001b[0m\u001b[0;34m.\u001b[0m\u001b[0mget\u001b[0m\u001b[0;34m(\u001b[0m\u001b[0;34m'name'\u001b[0m\u001b[0;34m)\u001b[0m\u001b[0;34m)\u001b[0m\u001b[0;34m\u001b[0m\u001b[0m\n\u001b[1;32m     36\u001b[0m             \u001b[0;32mprint\u001b[0m\u001b[0;34m(\u001b[0m\u001b[0;34m'\u7535\u5f71\u8bc4\u5206\uff1a'\u001b[0m\u001b[0;34m+\u001b[0m\u001b[0mmovie_dict\u001b[0m\u001b[0;34m.\u001b[0m\u001b[0mget\u001b[0m\u001b[0;34m(\u001b[0m\u001b[0;34m'score'\u001b[0m\u001b[0;34m)\u001b[0m\u001b[0;34m)\u001b[0m\u001b[0;34m\u001b[0m\u001b[0m\n",
        "\u001b[0;31mUnicodeDecodeError\u001b[0m: 'ascii' codec can't decode byte 0xe7 in position 0: ordinal not in range(128)"
       ]
      }
     ],
     "prompt_number": 2
    },
    {
     "cell_type": "code",
     "collapsed": false,
     "input": [],
     "language": "python",
     "metadata": {},
     "outputs": []
    }
   ],
   "metadata": {}
  }
 ]
}